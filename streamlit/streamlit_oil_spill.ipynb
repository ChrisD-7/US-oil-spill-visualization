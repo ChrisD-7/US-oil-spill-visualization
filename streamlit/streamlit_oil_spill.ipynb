{
  "nbformat": 4,
  "nbformat_minor": 0,
  "metadata": {
    "colab": {
      "provenance": []
    },
    "kernelspec": {
      "name": "python3",
      "display_name": "Python 3"
    },
    "language_info": {
      "name": "python"
    }
  },
  "cells": [
    {
      "cell_type": "code",
      "execution_count": 1,
      "metadata": {
        "colab": {
          "base_uri": "https://localhost:8080/"
        },
        "id": "m9MdCrgYGfUI",
        "outputId": "f65f42fd-43fa-4b81-de8e-5e9fdfde3ed6"
      },
      "outputs": [
        {
          "output_type": "stream",
          "name": "stdout",
          "text": [
            "Collecting streamlit\n",
            "  Downloading streamlit-1.35.0-py2.py3-none-any.whl (8.6 MB)\n",
            "\u001b[2K     \u001b[90m━━━━━━━━━━━━━━━━━━━━━━━━━━━━━━━━━━━━━━━━\u001b[0m \u001b[32m8.6/8.6 MB\u001b[0m \u001b[31m22.7 MB/s\u001b[0m eta \u001b[36m0:00:00\u001b[0m\n",
            "\u001b[?25hCollecting pydeck\n",
            "  Downloading pydeck-0.9.1-py2.py3-none-any.whl (6.9 MB)\n",
            "\u001b[2K     \u001b[90m━━━━━━━━━━━━━━━━━━━━━━━━━━━━━━━━━━━━━━━━\u001b[0m \u001b[32m6.9/6.9 MB\u001b[0m \u001b[31m64.4 MB/s\u001b[0m eta \u001b[36m0:00:00\u001b[0m\n",
            "\u001b[?25hRequirement already satisfied: pandas in /usr/local/lib/python3.10/dist-packages (2.0.3)\n",
            "Requirement already satisfied: matplotlib in /usr/local/lib/python3.10/dist-packages (3.7.1)\n",
            "Requirement already satisfied: seaborn in /usr/local/lib/python3.10/dist-packages (0.13.1)\n",
            "Requirement already satisfied: scikit-learn in /usr/local/lib/python3.10/dist-packages (1.2.2)\n",
            "Requirement already satisfied: altair<6,>=4.0 in /usr/local/lib/python3.10/dist-packages (from streamlit) (4.2.2)\n",
            "Requirement already satisfied: blinker<2,>=1.0.0 in /usr/lib/python3/dist-packages (from streamlit) (1.4)\n",
            "Requirement already satisfied: cachetools<6,>=4.0 in /usr/local/lib/python3.10/dist-packages (from streamlit) (5.3.3)\n",
            "Requirement already satisfied: click<9,>=7.0 in /usr/local/lib/python3.10/dist-packages (from streamlit) (8.1.7)\n",
            "Requirement already satisfied: numpy<2,>=1.19.3 in /usr/local/lib/python3.10/dist-packages (from streamlit) (1.25.2)\n",
            "Requirement already satisfied: packaging<25,>=16.8 in /usr/local/lib/python3.10/dist-packages (from streamlit) (24.0)\n",
            "Requirement already satisfied: pillow<11,>=7.1.0 in /usr/local/lib/python3.10/dist-packages (from streamlit) (9.4.0)\n",
            "Requirement already satisfied: protobuf<5,>=3.20 in /usr/local/lib/python3.10/dist-packages (from streamlit) (3.20.3)\n",
            "Requirement already satisfied: pyarrow>=7.0 in /usr/local/lib/python3.10/dist-packages (from streamlit) (14.0.2)\n",
            "Requirement already satisfied: requests<3,>=2.27 in /usr/local/lib/python3.10/dist-packages (from streamlit) (2.31.0)\n",
            "Requirement already satisfied: rich<14,>=10.14.0 in /usr/local/lib/python3.10/dist-packages (from streamlit) (13.7.1)\n",
            "Requirement already satisfied: tenacity<9,>=8.1.0 in /usr/local/lib/python3.10/dist-packages (from streamlit) (8.3.0)\n",
            "Requirement already satisfied: toml<2,>=0.10.1 in /usr/local/lib/python3.10/dist-packages (from streamlit) (0.10.2)\n",
            "Requirement already satisfied: typing-extensions<5,>=4.3.0 in /usr/local/lib/python3.10/dist-packages (from streamlit) (4.11.0)\n",
            "Collecting gitpython!=3.1.19,<4,>=3.0.7 (from streamlit)\n",
            "  Downloading GitPython-3.1.43-py3-none-any.whl (207 kB)\n",
            "\u001b[2K     \u001b[90m━━━━━━━━━━━━━━━━━━━━━━━━━━━━━━━━━━━━━━━━\u001b[0m \u001b[32m207.3/207.3 kB\u001b[0m \u001b[31m17.2 MB/s\u001b[0m eta \u001b[36m0:00:00\u001b[0m\n",
            "\u001b[?25hRequirement already satisfied: tornado<7,>=6.0.3 in /usr/local/lib/python3.10/dist-packages (from streamlit) (6.3.3)\n",
            "Collecting watchdog>=2.1.5 (from streamlit)\n",
            "  Downloading watchdog-4.0.1-py3-none-manylinux2014_x86_64.whl (83 kB)\n",
            "\u001b[2K     \u001b[90m━━━━━━━━━━━━━━━━━━━━━━━━━━━━━━━━━━━━━━━━\u001b[0m \u001b[32m83.0/83.0 kB\u001b[0m \u001b[31m4.3 MB/s\u001b[0m eta \u001b[36m0:00:00\u001b[0m\n",
            "\u001b[?25hRequirement already satisfied: jinja2>=2.10.1 in /usr/local/lib/python3.10/dist-packages (from pydeck) (3.1.4)\n",
            "Requirement already satisfied: python-dateutil>=2.8.2 in /usr/local/lib/python3.10/dist-packages (from pandas) (2.8.2)\n",
            "Requirement already satisfied: pytz>=2020.1 in /usr/local/lib/python3.10/dist-packages (from pandas) (2023.4)\n",
            "Requirement already satisfied: tzdata>=2022.1 in /usr/local/lib/python3.10/dist-packages (from pandas) (2024.1)\n",
            "Requirement already satisfied: contourpy>=1.0.1 in /usr/local/lib/python3.10/dist-packages (from matplotlib) (1.2.1)\n",
            "Requirement already satisfied: cycler>=0.10 in /usr/local/lib/python3.10/dist-packages (from matplotlib) (0.12.1)\n",
            "Requirement already satisfied: fonttools>=4.22.0 in /usr/local/lib/python3.10/dist-packages (from matplotlib) (4.51.0)\n",
            "Requirement already satisfied: kiwisolver>=1.0.1 in /usr/local/lib/python3.10/dist-packages (from matplotlib) (1.4.5)\n",
            "Requirement already satisfied: pyparsing>=2.3.1 in /usr/local/lib/python3.10/dist-packages (from matplotlib) (3.1.2)\n",
            "Requirement already satisfied: scipy>=1.3.2 in /usr/local/lib/python3.10/dist-packages (from scikit-learn) (1.11.4)\n",
            "Requirement already satisfied: joblib>=1.1.1 in /usr/local/lib/python3.10/dist-packages (from scikit-learn) (1.4.2)\n",
            "Requirement already satisfied: threadpoolctl>=2.0.0 in /usr/local/lib/python3.10/dist-packages (from scikit-learn) (3.5.0)\n",
            "Requirement already satisfied: entrypoints in /usr/local/lib/python3.10/dist-packages (from altair<6,>=4.0->streamlit) (0.4)\n",
            "Requirement already satisfied: jsonschema>=3.0 in /usr/local/lib/python3.10/dist-packages (from altair<6,>=4.0->streamlit) (4.19.2)\n",
            "Requirement already satisfied: toolz in /usr/local/lib/python3.10/dist-packages (from altair<6,>=4.0->streamlit) (0.12.1)\n",
            "Collecting gitdb<5,>=4.0.1 (from gitpython!=3.1.19,<4,>=3.0.7->streamlit)\n",
            "  Downloading gitdb-4.0.11-py3-none-any.whl (62 kB)\n",
            "\u001b[2K     \u001b[90m━━━━━━━━━━━━━━━━━━━━━━━━━━━━━━━━━━━━━━━━\u001b[0m \u001b[32m62.7/62.7 kB\u001b[0m \u001b[31m3.3 MB/s\u001b[0m eta \u001b[36m0:00:00\u001b[0m\n",
            "\u001b[?25hRequirement already satisfied: MarkupSafe>=2.0 in /usr/local/lib/python3.10/dist-packages (from jinja2>=2.10.1->pydeck) (2.1.5)\n",
            "Requirement already satisfied: six>=1.5 in /usr/local/lib/python3.10/dist-packages (from python-dateutil>=2.8.2->pandas) (1.16.0)\n",
            "Requirement already satisfied: charset-normalizer<4,>=2 in /usr/local/lib/python3.10/dist-packages (from requests<3,>=2.27->streamlit) (3.3.2)\n",
            "Requirement already satisfied: idna<4,>=2.5 in /usr/local/lib/python3.10/dist-packages (from requests<3,>=2.27->streamlit) (3.7)\n",
            "Requirement already satisfied: urllib3<3,>=1.21.1 in /usr/local/lib/python3.10/dist-packages (from requests<3,>=2.27->streamlit) (2.0.7)\n",
            "Requirement already satisfied: certifi>=2017.4.17 in /usr/local/lib/python3.10/dist-packages (from requests<3,>=2.27->streamlit) (2024.2.2)\n",
            "Requirement already satisfied: markdown-it-py>=2.2.0 in /usr/local/lib/python3.10/dist-packages (from rich<14,>=10.14.0->streamlit) (3.0.0)\n",
            "Requirement already satisfied: pygments<3.0.0,>=2.13.0 in /usr/local/lib/python3.10/dist-packages (from rich<14,>=10.14.0->streamlit) (2.16.1)\n",
            "Collecting smmap<6,>=3.0.1 (from gitdb<5,>=4.0.1->gitpython!=3.1.19,<4,>=3.0.7->streamlit)\n",
            "  Downloading smmap-5.0.1-py3-none-any.whl (24 kB)\n",
            "Requirement already satisfied: attrs>=22.2.0 in /usr/local/lib/python3.10/dist-packages (from jsonschema>=3.0->altair<6,>=4.0->streamlit) (23.2.0)\n",
            "Requirement already satisfied: jsonschema-specifications>=2023.03.6 in /usr/local/lib/python3.10/dist-packages (from jsonschema>=3.0->altair<6,>=4.0->streamlit) (2023.12.1)\n",
            "Requirement already satisfied: referencing>=0.28.4 in /usr/local/lib/python3.10/dist-packages (from jsonschema>=3.0->altair<6,>=4.0->streamlit) (0.35.1)\n",
            "Requirement already satisfied: rpds-py>=0.7.1 in /usr/local/lib/python3.10/dist-packages (from jsonschema>=3.0->altair<6,>=4.0->streamlit) (0.18.1)\n",
            "Requirement already satisfied: mdurl~=0.1 in /usr/local/lib/python3.10/dist-packages (from markdown-it-py>=2.2.0->rich<14,>=10.14.0->streamlit) (0.1.2)\n",
            "Installing collected packages: watchdog, smmap, pydeck, gitdb, gitpython, streamlit\n",
            "Successfully installed gitdb-4.0.11 gitpython-3.1.43 pydeck-0.9.1 smmap-5.0.1 streamlit-1.35.0 watchdog-4.0.1\n"
          ]
        }
      ],
      "source": [
        "!pip install streamlit pydeck pandas matplotlib seaborn scikit-learn"
      ]
    },
    {
      "cell_type": "code",
      "source": [
        "APP_CODE = \"\"\"\n",
        "import streamlit as st\n",
        "import pandas as pd\n",
        "import matplotlib.pyplot as plt\n",
        "import seaborn as sns\n",
        "import pydeck as pdk\n",
        "from sklearn.preprocessing import StandardScaler\n",
        "import io\n",
        "\n",
        "# Load the dataset\n",
        "df = pd.read_csv('incidents.csv') # make sure to link the dataset perfectly\n",
        "\n",
        "# Data cleaning steps\n",
        "df['open_date'] = pd.to_datetime(df['open_date'])\n",
        "df['threat'] = df['threat'].fillna('Unknown')\n",
        "df['location'] = df['location'].fillna('Unknown Location')\n",
        "df['description'] = df['description'].fillna('No description available')\n",
        "df['commodity'] = df['commodity'].fillna('Unknown')\n",
        "df['tags'] = df['tags'].fillna('No tags')\n",
        "boolean_columns = ['measure_skim', 'measure_shore', 'measure_bio', 'measure_disperse', 'measure_burn']\n",
        "df[boolean_columns] = df[boolean_columns].fillna(0)\n",
        "df['max_ptl_release_gallons'] = df['max_ptl_release_gallons'].fillna(df['max_ptl_release_gallons'].median())\n",
        "df['year'] = df['open_date'].dt.year\n",
        "\n",
        "st.sidebar.title(\"US Oil Spill Visualization\")\n",
        "option = st.sidebar.selectbox(\n",
        "    'Select Visualization Type',\n",
        "    ['Data Overview', 'Threat Analysis', 'Yearly Incidents', 'Geospatial Visualization']\n",
        ")\n",
        "\n",
        "if option == 'Data Overview':\n",
        "    st.header('Data Overview')\n",
        "    st.write(\"This section provides a comprehensive overview of the dataset, including a preview of the entire dataset, summary statistics, and null values in the dataset.\")\n",
        "\n",
        "    st.subheader('Dataset Preview')\n",
        "    st.dataframe(df)\n",
        "\n",
        "    st.subheader('Summary Statistics')\n",
        "    st.write(df.describe())\n",
        "\n",
        "    st.subheader('Null Values in the Dataset')\n",
        "    st.write(df.isnull().sum())\n",
        "\n",
        "    st.subheader('Basic Information')\n",
        "    buffer = io.StringIO()\n",
        "    df.info(buf=buffer)\n",
        "    s = buffer.getvalue()\n",
        "    st.text(s)\n",
        "\n",
        "if option == 'Threat Analysis':\n",
        "    st.header('Threat Analysis')\n",
        "    st.write(\"This section shows the distribution of incidents by threat type.\")\n",
        "    plt.figure(figsize=(10, 6))\n",
        "    sns.countplot(data=df, x='threat', order=df['threat'].value_counts().index)\n",
        "    plt.xticks(rotation=45)\n",
        "    plt.title('Number of Incidents by Threat Type')\n",
        "    st.pyplot(plt)\n",
        "\n",
        "if option == 'Yearly Incidents':\n",
        "    st.header('Yearly Incidents')\n",
        "    st.write(\"This section shows the number of incidents recorded each year, allowing us to observe trends over time.\")\n",
        "    st.write(\n",
        "        '''\n",
        "        From this chart, we can observe trends over time.\n",
        "\n",
        "        Here are some key points:\n",
        "\n",
        "        - **Peak Years**: There is a noticeable peak in incidents during the years 2017, 2008, and 2016.\n",
        "        - **Recent Decline**: The number of incidents appears to decline in recent years, particularly after 2017.\n",
        "        - **Historical Data**: There are fewer recorded incidents before the 1980s, which could be due to less comprehensive reporting during those times.\n",
        "        '''\n",
        "    )\n",
        "    plt.figure(figsize=(14, 8))\n",
        "    sns.countplot(data=df, x='year', order=df['year'].value_counts().index)\n",
        "    plt.xticks(rotation=90)\n",
        "    plt.title('Number of Incidents by Year')\n",
        "    st.pyplot(plt)\n",
        "\n",
        "if option == 'Geospatial Visualization':\n",
        "    st.header('Geospatial Visualization')\n",
        "    st.write(\"This section provides geospatial visualizations of the incidents, including scatter plots and heatmaps, to show the geographical distribution of incidents.\")\n",
        "\n",
        "    # Scatter plot of all incidents\n",
        "    scatter_layer = pdk.Layer(\n",
        "        'ScatterplotLayer',\n",
        "        data=df,\n",
        "        get_position='[lon, lat]',\n",
        "        get_radius=50000,\n",
        "        get_color='[200, 30, 0, 160]',\n",
        "        pickable=True\n",
        "    )\n",
        "\n",
        "    # Heatmap of incidents\n",
        "    heatmap_layer = pdk.Layer(\n",
        "        'HeatmapLayer',\n",
        "        data=df,\n",
        "        get_position='[lon, lat]',\n",
        "        get_weight='max_ptl_release_gallons',\n",
        "        radius_pixels=60\n",
        "    )\n",
        "\n",
        "    # Impact analysis\n",
        "    scaler = StandardScaler()\n",
        "    df['scaled_release_gallons'] = scaler.fit_transform(df[['max_ptl_release_gallons']]) * 100000\n",
        "    impact_layer = pdk.Layer(\n",
        "        'ScatterplotLayer',\n",
        "        data=df,\n",
        "        get_position='[lon, lat]',\n",
        "        get_radius='scaled_release_gallons',\n",
        "        get_color='[200, 30, 0, 160]',\n",
        "        pickable=True,\n",
        "        auto_highlight=True\n",
        "    )\n",
        "\n",
        "    view_state = pdk.ViewState(\n",
        "        latitude=37.7749,\n",
        "        longitude=-122.4194,\n",
        "        zoom=4,\n",
        "        pitch=50\n",
        "    )\n",
        "\n",
        "    # Threat analysis\n",
        "    def get_threat_color(threat):\n",
        "        colors = {\n",
        "            'Oil': [255, 0, 0],\n",
        "            'Chemical': [0, 255, 0],\n",
        "            'Other': [0, 0, 255],\n",
        "            'Unknown': [128, 128, 128]\n",
        "        }\n",
        "        return colors.get(threat, [128, 128, 128])\n",
        "\n",
        "    df['threat_color'] = df['threat'].apply(get_threat_color)\n",
        "\n",
        "    map_type = st.selectbox(\"Select Map Type\", [\"Scatter Plot\", \"Heatmap\", \"Impact Analysis\", \"Threat Analysis\"])\n",
        "\n",
        "    if map_type == \"Scatter Plot\":\n",
        "        st.pydeck_chart(pdk.Deck(layers=[scatter_layer], initial_view_state=view_state, width=800, height=600))\n",
        "    elif map_type == \"Heatmap\":\n",
        "        st.pydeck_chart(pdk.Deck(layers=[heatmap_layer], initial_view_state=view_state, width=800, height=600))\n",
        "    elif map_type == \"Impact Analysis\":\n",
        "        st.pydeck_chart(pdk.Deck(layers=[impact_layer], initial_view_state=view_state, width=800, height=600))\n",
        "    elif map_type == \"Threat Analysis\":\n",
        "        st.subheader(\"Select Threat Types\")\n",
        "        threat_types = df['threat'].unique()\n",
        "        selected_threats = st.multiselect('Threat Types', threat_types, default=threat_types)\n",
        "\n",
        "        filtered_df = df[df['threat'].isin(selected_threats)]\n",
        "        filtered_df['threat_color'] = filtered_df['threat'].apply(get_threat_color)\n",
        "\n",
        "        threat_layer = pdk.Layer(\n",
        "            'ScatterplotLayer',\n",
        "            data=filtered_df,\n",
        "            get_position='[lon, lat]',\n",
        "            get_fill_color='[threat_color[0], threat_color[1], threat_color[2], 150]',\n",
        "            get_radius=50000,\n",
        "            pickable=True,\n",
        "            auto_highlight=True\n",
        "        )\n",
        "\n",
        "        threat_tooltip = {\"text\": \"{name}\\\\nLocation: {location}\\\\nThreat: {threat}\"}\n",
        "        threat_deck = pdk.Deck(layers=[threat_layer], initial_view_state=view_state, tooltip=threat_tooltip)\n",
        "        st.pydeck_chart(threat_deck)\n",
        "\"\"\""
      ],
      "metadata": {
        "id": "QAfYCwPVGgvw"
      },
      "execution_count": 59,
      "outputs": []
    },
    {
      "cell_type": "markdown",
      "source": [
        "[Refrence](https://medium.com/@yash.kavaiya3/running-streamlit-code-in-google-colab-involves-a-few-steps-c43ea0e8c0d9)"
      ],
      "metadata": {
        "id": "tjZXPPW5IMbn"
      }
    },
    {
      "cell_type": "code",
      "source": [
        "!wget -q -O - ipv4.icanhazip.com  #use the code generated below for the password"
      ],
      "metadata": {
        "colab": {
          "base_uri": "https://localhost:8080/"
        },
        "id": "EDFC0PKaHlr1",
        "outputId": "151ee5f5-a55e-47b2-b6d2-10aebadb0212"
      },
      "execution_count": 60,
      "outputs": [
        {
          "output_type": "stream",
          "name": "stdout",
          "text": [
            "34.91.170.224\n"
          ]
        }
      ]
    },
    {
      "cell_type": "code",
      "source": [
        "# Write the app to a file\n",
        "with open('app.py', 'w') as f:\n",
        "    f.write(APP_CODE)\n",
        "\n",
        "# Install localtunnel\n",
        "!npm install -g localtunnel\n",
        "\n",
        "# Run streamlit in the background\n",
        "!streamlit run /content/app.py &>/content/logs.txt &\n",
        "\n",
        "# Expose the port 8501\n",
        "!npx localtunnel --port 8501"
      ],
      "metadata": {
        "colab": {
          "base_uri": "https://localhost:8080/"
        },
        "id": "q4k-S0ivHk_b",
        "outputId": "5034cd8b-a9f9-484e-b394-a705390b7749"
      },
      "execution_count": null,
      "outputs": [
        {
          "output_type": "stream",
          "name": "stdout",
          "text": [
            "\u001b[K\u001b[?25h/tools/node/bin/lt -> /tools/node/lib/node_modules/localtunnel/bin/lt.js\n",
            "+ localtunnel@2.0.2\n",
            "updated 1 package in 1.482s\n",
            "\u001b[K\u001b[?25hnpx: installed 22 in 2.889s\n",
            "your url is: https://stale-bars-sniff.loca.lt\n"
          ]
        }
      ]
    },
    {
      "cell_type": "code",
      "source": [],
      "metadata": {
        "id": "UC3TqrZdMywv"
      },
      "execution_count": null,
      "outputs": []
    }
  ]
}